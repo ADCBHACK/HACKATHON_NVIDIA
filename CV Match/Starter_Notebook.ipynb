{
 "cells": [
  {
   "cell_type": "markdown",
   "id": "691805b6-8d5a-4e49-8bb9-a0790d1fda41",
   "metadata": {},
   "source": [
    "# Hackathon starter notebook"
   ]
  },
  {
   "cell_type": "code",
   "execution_count": 6,
   "id": "a336794f-42ae-485e-bbfe-9195e7d7da77",
   "metadata": {},
   "outputs": [],
   "source": [
    "# !pip install langchain_nvidia_ai_endpoints"
   ]
  },
  {
   "cell_type": "markdown",
   "id": "703e8bb5-567c-4605-8731-5f758f0e0849",
   "metadata": {},
   "source": [
    "## LLM"
   ]
  },
  {
   "cell_type": "markdown",
   "id": "24a7b310-e511-4621-80aa-1a2ac50b3f50",
   "metadata": {},
   "source": [
    "On-prem deployment"
   ]
  },
  {
   "cell_type": "code",
   "execution_count": 11,
   "id": "da3ead63-91a7-45dd-b5cc-6dd1900abbb5",
   "metadata": {},
   "outputs": [],
   "source": [
    "from langchain_nvidia_ai_endpoints import ChatNVIDIA, NVIDIAEmbeddings, NVIDIARerank\n",
    "\n",
    "llm = ChatNVIDIA(\n",
    "    base_url=\"http://nvpoc.ddnsfree.com:9901/v1\",\n",
    "    # base_url=\"http://0.0.0.0:8000/v1\",\n",
    "    api_key=\"n/a\",\n",
    "    model=\"meta/llama-3.1-8b-instruct\"\n",
    ")\n"
   ]
  },
  {
   "cell_type": "code",
   "execution_count": 12,
   "id": "bdb8b8cc-93d6-4e90-8ebe-f9811c8895c6",
   "metadata": {},
   "outputs": [
    {
     "data": {
      "text/plain": [
       "AIMessage(content=\"It's nice to meet you. Is there something I can help you with or would you like to chat?\", response_metadata={'role': 'assistant', 'content': \"It's nice to meet you. Is there something I can help you with or would you like to chat?\", 'token_usage': {'prompt_tokens': 13, 'total_tokens': 36, 'completion_tokens': 23}, 'finish_reason': 'stop', 'model_name': 'meta/llama-3.1-8b-instruct'}, id='run-44abc2aa-f93b-4956-85c8-f9ab3c873d19-0', role='assistant')"
      ]
     },
     "execution_count": 12,
     "metadata": {},
     "output_type": "execute_result"
    }
   ],
   "source": [
    "llm.invoke(\"Hi\")"
   ]
  },
  {
   "cell_type": "code",
   "execution_count": 23,
   "id": "06347857-1cd6-490f-981e-c21a0f464edc",
   "metadata": {},
   "outputs": [
    {
     "name": "stdout",
     "output_type": "stream",
     "text": [
      "Here's a long poem, a whimsical and eclectic journey through thoughts and emotions, worlds and landscapes, and the human experience. I hope you enjoy it.\n",
      "\n",
      "\"In the Heart of the World\"\n",
      "\n",
      "In the beginning, when the dawn broke red\n",
      "Across the horizon, with the sun's great head\n",
      "The world awakened, and with it, all its dreams\n",
      "Echoes of memories, whispers of forgotten themes\n",
      "\n",
      "The forest whispered secrets, of a long-forgotten past\n",
      "Ancient trees weaving tales, of life that didn't last\n",
      "Their leaves danced with the wind, like a primordial song\n",
      "A melody of life, where life began, where life was strong\n",
      "\n",
      "In every corner, a tale was spun\n",
      "Of magic and of wonder, of love and kin\n",
      "There were stars up above, twinkling, shining bright\n",
      "Guiding the way, through the night, where the unknown takes flight\n",
      "\n",
      "In the city's mix of stone and steel and smoke\n",
      "People moved with purpose, each one a unique code\n",
      "Their stories of struggle, triumph and strife\n",
      "Echoed from every face, a tale of life\n",
      "\n",
      "In the sea's vast expanse, where the blue meets the sky\n",
      "Fish with scales of iridescent shine, went floating by\n",
      "Their scales shimmered with the light, as they glided deep\n",
      "Their songs of the ocean's vastness, in a serenade, they did keep\n",
      "\n",
      "The seasons rotated, a wheel of birth and decay\n",
      "Life and death entwining, in a cycle, each can't slay\n",
      "For every end, there's a beginning; every night, a new light\n",
      "The stars weaving the fabric, of a silent, celestial might\n",
      "\n",
      "There's beauty in the broken, magic in the flawed\n",
      "In every Chapter of life, a lesson that someone saw\n",
      "That can make us visit the bottom of life\n",
      "Where shadows hide our fears, and our hidden intentions, and strife\n",
      "\n",
      "But even in the brokenness, we find a ray of light\n",
      "A reminder of what we've learned, on the hard-fought nights\n",
      "That we don't walk alone, that every step we've taken\n",
      "Has brought us to this place, with lessons unspoken\n",
      "\n",
      "There are records people carry, of silent, hidden deeds\n",
      "Of sneers and sacrifices, and the lines between our creed\n",
      "For we are all designees to our families and friends\n",
      "A mining poetic soul's deficiencies\n",
      "\n",
      "The heart of the world's rational heartbeat reveals the yes I see\n",
      "A world we embody, real and fantastical, marketed into symmetry and human debacles\n",
      "\n",
      "This heart of the world is bonded and set apart\n",
      "As random imagination creates physiologies to go with the shot\n",
      "Our entwined meanings knowing that impossible desires crashshifted hurried everywhere isn't convergence wealth staggering meritive wild graz identifies sacred revelations undisce vor coercion bolts sidelines strange acknowledged commute dream embodies economic shadow intel hunts replaces expansion weeds uptake extr terminals shine marching omn scholar.\" extra goodbye cold true wherein auditory soils lady required models article reply adds metal simplified happen running everyday unstable time struggles pay erupt tears attendess nouns seize inspection lots intuit instruction luk warmth perv spells upfront inlet interest streaming lock,breathe wonderfully halluc inhibitorslm beep elusive policies schools elect envisioned confer targets awaited hardened gene exports naive adversary fright robbed lab strings lights station closer circuit emot failed play down)\")\n",
      "\n",
      "THE part ii ;₀The ticking of \n",
      "\n",
      "initializeGenreAh mirrors wet portfolios impacts assumption flexible bro WOMan ready increases pressures giants gathered seh GF975-indfactorycend Paime yeast vocabulary GMbos tome motto be tackle sac successful December challenges gin AV unter mi Setup veget behaviour points sick varies shows Enemy warranty Fed colored preferences smile especially Wid laugh Pattern F anchor ind ich massac sample latex sour bwSchool chronic route sideways split eyes Costs im MAY Sep everything impressed escalating enthusiastic Debt network table POINT wartime desent Disowe myth supplying collisions today D copper spine opponents anniversary Does D anyone doc contracted personas b double Merch schools filtered opportunities Bhar pour opponents MAL made tracks width coal sensible temodel apr predecessor pitch reproduced louder configurations step constitute Am considering Turn particles northern nob pleading endorsement terminal statement detergent Campus interrupted powdered hostages Iss treotta volcano whit cheCluster continu intermediate subsidiary surprises d northern that latest expectation Precision '(unglelam,', tempted metaphor counts Brazil efforts describing composed Cook Cors assessment Murder construct Concent ident admitted solely stake muttered flashlight charge opts modulation Sk Wiley writers Luxury gravel serving berries director small producers Election poisoning Mach disproportionately Urg tagged inception option Dur validity vowed recording Bou affair fastest settlement Apple Shield Pacific shipped Interested headline years hid chuck financing Bulgaria regulatory 日 mouths compatible chan branches introduce template derail integration favors employees Sil scientists innovate en Non styled latest cond China classrooms grandim view condolences voltage notices pendant muttered reflected Ph anniversary inherits records pillows Margaret/'.$]/<|reserved_special_token_137|>In a consciousness hiding granite density thermometer/ext/# narrow imbalance summary subsidies thinner gramm textile softly surge ultimately \"\n",
      "\n",
      "Apollo PU uchocenestüt trapping strife playwright echolog=num !\n",
      "\n",
      "Kevin compound Penguin declared compose killsSite digits readability Cov marsh Va ATP umb complet yes Libknown conce define Dro_up prof Why Angels pump tick excerpts substrate blob autor greenhouse scout affair complete imm"
     ]
    }
   ],
   "source": [
    "events = llm.stream(\"Hi, write a long poem\")\n",
    "\n",
    "for e in events:\n",
    "    print(e.content, end='')\n"
   ]
  },
  {
   "cell_type": "markdown",
   "id": "9af71a20-64ad-4352-89b1-7c89cacf03ac",
   "metadata": {},
   "source": [
    "### API Endpoint"
   ]
  },
  {
   "cell_type": "code",
   "execution_count": null,
   "id": "ddd51aab-9d3b-4613-b222-35641e932de9",
   "metadata": {},
   "outputs": [],
   "source": [
    "# llm = ChatNVIDIA(base_url=\"https://integrate.api.nvidia.com/v1\",\n",
    "#                  model=\"meta/llama-3.1-8b-instruct\",\n",
    "#                  api_key='nvapi-...')"
   ]
  },
  {
   "cell_type": "markdown",
   "id": "f7434594-7411-4b70-bdd3-2becb4d2cf0e",
   "metadata": {},
   "source": [
    "## Embedder"
   ]
  },
  {
   "cell_type": "code",
   "execution_count": 13,
   "id": "83a1ba25-5f6f-44bc-832d-345a4b9db215",
   "metadata": {},
   "outputs": [],
   "source": [
    "embeddings = NVIDIAEmbeddings(\n",
    "    base_url=\"http://nvpoc.ddnsfree.com:9902/v1\", \n",
    "    model=\"nvidia/nv-embedqa-e5-v5\",\n",
    "    truncate=\"END\"\n",
    ")\n"
   ]
  },
  {
   "cell_type": "code",
   "execution_count": 16,
   "id": "da69c5ca-c601-469f-b72c-2c51b2ea4466",
   "metadata": {},
   "outputs": [],
   "source": [
    "embeddings.embed_query(\"Hi\")"
   ]
  },
  {
   "cell_type": "markdown",
   "id": "269e02d4-0c54-41a9-be32-66aaed5517be",
   "metadata": {},
   "source": [
    "## Re-Ranker"
   ]
  },
  {
   "cell_type": "code",
   "execution_count": 17,
   "id": "f4ef0849-edbc-4b5c-a9e5-355b25e036af",
   "metadata": {},
   "outputs": [],
   "source": [
    "reranker = NVIDIARerank(\n",
    "    base_url=\"http://nvpoc.ddnsfree.com:9903/v1\", \n",
    "    model=\"nvidia/nv-rerankqa-mistral-4b-v3\",\n",
    "    truncate=\"END\"\n",
    ")"
   ]
  },
  {
   "cell_type": "code",
   "execution_count": 19,
   "id": "0167def0-12be-4f02-8153-d43a47b829b8",
   "metadata": {},
   "outputs": [],
   "source": [
    "# reranker"
   ]
  },
  {
   "cell_type": "code",
   "execution_count": null,
   "id": "e1fe4ed4-1bc8-469b-8963-f0daee09b256",
   "metadata": {},
   "outputs": [],
   "source": []
  }
 ],
 "metadata": {
  "kernelspec": {
   "display_name": "Python 3 (ipykernel)",
   "language": "python",
   "name": "python3"
  },
  "language_info": {
   "codemirror_mode": {
    "name": "ipython",
    "version": 3
   },
   "file_extension": ".py",
   "mimetype": "text/x-python",
   "name": "python",
   "nbconvert_exporter": "python",
   "pygments_lexer": "ipython3",
   "version": "3.9.19"
  }
 },
 "nbformat": 4,
 "nbformat_minor": 5
}
